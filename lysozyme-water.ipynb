{
 "cells": [
  {
   "cell_type": "code",
   "execution_count": 16,
   "id": "5b7f9369",
   "metadata": {},
   "outputs": [],
   "source": [
    "# Install Miniconda\n",
    "# https://docs.conda.io/en/latest/miniconda.html"
   ]
  },
  {
   "cell_type": "code",
   "execution_count": 17,
   "id": "26adfea3",
   "metadata": {},
   "outputs": [
    {
     "name": "stdout",
     "output_type": "stream",
     "text": [
      "Warning: 'defaults' already in 'channels' list, moving to the top\n",
      "Warning: 'bioconda' already in 'channels' list, moving to the top\n",
      "Warning: 'conda-forge' already in 'channels' list, moving to the top\n"
     ]
    }
   ],
   "source": [
    "# Add conda channels\n",
    "! conda config --add channels defaults\n",
    "! conda config --add channels bioconda\n",
    "! conda config --add channels conda-forge"
   ]
  },
  {
   "cell_type": "code",
   "execution_count": 18,
   "id": "1d308e21",
   "metadata": {},
   "outputs": [
    {
     "name": "stdout",
     "output_type": "stream",
     "text": [
      "Collecting package metadata (current_repodata.json): done\n",
      "Solving environment: done\n",
      "\n",
      "# All requested packages already installed.\n",
      "\n"
     ]
    }
   ],
   "source": [
    "# Install Gromacs\n",
    "! printf \"y\" | conda install -c bioconda gromacs"
   ]
  },
  {
   "cell_type": "code",
   "execution_count": 24,
   "id": "fc9b0bb6",
   "metadata": {},
   "outputs": [
    {
     "name": "stdout",
     "output_type": "stream",
     "text": [
      "Collecting package metadata (current_repodata.json): done\n",
      "Solving environment: done\n",
      "\n",
      "# All requested packages already installed.\n",
      "\n",
      "Collecting package metadata (current_repodata.json): done\n",
      "Solving environment: done\n",
      "\n",
      "# All requested packages already installed.\n",
      "\n",
      "Requirement already satisfied: GromacsWrapper in /home/felix/miniconda3/envs/md/lib/python3.7/site-packages (0.8.0)\n",
      "Requirement already satisfied: pytraj in /home/felix/miniconda3/envs/md/lib/python3.7/site-packages (2.0.5)\n",
      "Requirement already satisfied: six in /home/felix/miniconda3/envs/md/lib/python3.7/site-packages (from GromacsWrapper) (1.16.0)\n",
      "Requirement already satisfied: numkit in /home/felix/miniconda3/envs/md/lib/python3.7/site-packages (from GromacsWrapper) (1.1.2)\n",
      "Requirement already satisfied: matplotlib in /home/felix/miniconda3/envs/md/lib/python3.7/site-packages (from GromacsWrapper) (3.3.4)\n",
      "Requirement already satisfied: numpy>=1.0 in /home/felix/miniconda3/envs/md/lib/python3.7/site-packages (from GromacsWrapper) (1.20.3)\n",
      "Requirement already satisfied: cycler>=0.10 in /home/felix/miniconda3/envs/md/lib/python3.7/site-packages (from matplotlib->GromacsWrapper) (0.10.0)\n",
      "Requirement already satisfied: kiwisolver>=1.0.1 in /home/felix/miniconda3/envs/md/lib/python3.7/site-packages (from matplotlib->GromacsWrapper) (1.3.1)\n",
      "Requirement already satisfied: pyparsing!=2.0.4,!=2.1.2,!=2.1.6,>=2.0.3 in /home/felix/miniconda3/envs/md/lib/python3.7/site-packages (from matplotlib->GromacsWrapper) (2.4.7)\n",
      "Requirement already satisfied: pillow>=6.2.0 in /home/felix/miniconda3/envs/md/lib/python3.7/site-packages (from matplotlib->GromacsWrapper) (8.2.0)\n",
      "Requirement already satisfied: python-dateutil>=2.1 in /home/felix/miniconda3/envs/md/lib/python3.7/site-packages (from matplotlib->GromacsWrapper) (2.8.1)\n",
      "Requirement already satisfied: scipy>=1.0 in /home/felix/miniconda3/envs/md/lib/python3.7/site-packages (from numkit->GromacsWrapper) (1.6.3)\n"
     ]
    }
   ],
   "source": [
    "# Install additional libraries\n",
    "! printf \"y\" | conda install numpy pandas matplotlib\n",
    "! printf \"y\" | conda install nglview mdanalysis\n",
    "! printf \"y\" | pip install GromacsWrapper pytraj"
   ]
  },
  {
   "cell_type": "code",
   "execution_count": 20,
   "id": "2de0a2e7",
   "metadata": {
    "scrolled": true
   },
   "outputs": [
    {
     "name": "stdout",
     "output_type": "stream",
     "text": [
      "Enabling notebook extension jupyter-js-widgets/extension...\n",
      "      - Validating: \u001b[32mOK\u001b[0m\n",
      "Enabling notebook extension nglview-js-widgets/extension...\n",
      "      - Validating: \u001b[32mOK\u001b[0m\n"
     ]
    }
   ],
   "source": [
    "# Initialize and enable NGLview\n",
    "! jupyter-nbextension enable --py --sys-prefix widgetsnbextension\n",
    "! jupyter-nbextension enable nglview --py --sys-prefix"
   ]
  },
  {
   "cell_type": "code",
   "execution_count": null,
   "id": "4683001d",
   "metadata": {},
   "outputs": [],
   "source": [
    "# numpy and matplotlib are required for result analysis and plotting"
   ]
  },
  {
   "cell_type": "code",
   "execution_count": 21,
   "id": "097eb5ec",
   "metadata": {},
   "outputs": [],
   "source": [
    "%matplotlib inline\n",
    "import matplotlib as mpl\n",
    "import matplotlib.pyplot as plt\n",
    "import numpy as np"
   ]
  },
  {
   "cell_type": "code",
   "execution_count": null,
   "id": "2e68c626",
   "metadata": {},
   "outputs": [],
   "source": [
    "# pytraj and nglview are required for trajectory analysis and visualization"
   ]
  },
  {
   "cell_type": "code",
   "execution_count": 25,
   "id": "7d85afd9",
   "metadata": {},
   "outputs": [
    {
     "data": {
      "application/vnd.jupyter.widget-view+json": {
       "model_id": "dc11b592b2964cd7a2514fa260221b97",
       "version_major": 2,
       "version_minor": 0
      },
      "text/plain": []
     },
     "metadata": {},
     "output_type": "display_data"
    }
   ],
   "source": [
    "import pytraj as pt\n",
    "import nglview as nv"
   ]
  },
  {
   "cell_type": "code",
   "execution_count": null,
   "id": "970af107",
   "metadata": {},
   "outputs": [],
   "source": []
  },
  {
   "cell_type": "code",
   "execution_count": null,
   "id": "c504017a",
   "metadata": {},
   "outputs": [],
   "source": []
  }
 ],
 "metadata": {
  "kernelspec": {
   "display_name": "md",
   "language": "python",
   "name": "md"
  },
  "language_info": {
   "codemirror_mode": {
    "name": "ipython",
    "version": 3
   },
   "file_extension": ".py",
   "mimetype": "text/x-python",
   "name": "python",
   "nbconvert_exporter": "python",
   "pygments_lexer": "ipython3",
   "version": "3.7.10"
  }
 },
 "nbformat": 4,
 "nbformat_minor": 5
}
